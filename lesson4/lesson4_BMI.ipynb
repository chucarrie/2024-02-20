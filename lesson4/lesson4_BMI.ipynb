{
 "cells": [
  {
   "cell_type": "code",
   "execution_count": 24,
   "metadata": {},
   "outputs": [
    {
     "name": "stdout",
     "output_type": "stream",
     "text": [
      "您的BMI是37.180\n",
      "重度肥胖\n"
     ]
    }
   ],
   "source": [
    "#BMI計算式\n",
    "try:\n",
    "    bh=eval(input('請輸入身身高(cm):'))\n",
    "    bw=eval(input('請輸入體重(kg):'))\n",
    "#BMI=體重(公斤)/身高²(公尺)²\n",
    "    bmi=bw/(bh/100)**2\n",
    "    print(f\"您的BMI是{bmi:.3f}\")\n",
    "    if bmi<18.5:\n",
    "        print(\"您的體重:過輕\")\n",
    "    elif bmi>=18.5 and bmi<24:\n",
    "        print(\"您的體重:正常範圍\")\n",
    "    elif bmi>=24 and bmi<27:\n",
    "        print(\"您的體重:過重\")\n",
    "    elif bmi>=27 and bmi<30:\n",
    "        print(\"輕度肥胖\")\n",
    "    elif bmi>=30 and bmi<35:\n",
    "        print(\"中度肥胖\")\n",
    "    else:\n",
    "        print(\"重度肥胖\")\n",
    "except:\n",
    "    print(\"輸入格式錯誤\")"
   ]
  },
  {
   "cell_type": "code",
   "execution_count": null,
   "metadata": {},
   "outputs": [],
   "source": []
  }
 ],
 "metadata": {
  "kernelspec": {
   "display_name": "Python 3",
   "language": "python",
   "name": "python3"
  },
  "language_info": {
   "codemirror_mode": {
    "name": "ipython",
    "version": 3
   },
   "file_extension": ".py",
   "mimetype": "text/x-python",
   "name": "python",
   "nbconvert_exporter": "python",
   "pygments_lexer": "ipython3",
   "version": "3.10.13"
  }
 },
 "nbformat": 4,
 "nbformat_minor": 2
}
