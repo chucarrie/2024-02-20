{
 "cells": [
  {
   "cell_type": "code",
   "execution_count": null,
   "metadata": {},
   "outputs": [],
   "source": [
    "def circle_area(radius:float) -> float:\n",
    "    PI:float = 3.1415926\n",
    "    return PI * radius ** 2\n",
    "\n",
    "area:float = circle_area(radius=100)\n",
    "print(f\"圓面積是:{area:.2f}\")\n",
    "\n",
    "area1:float = circle_area(radius=1000)\n",
    "print(f\"圓面積是:{area1:.2f}\")"
   ]
  },
  {
   "cell_type": "code",
   "execution_count": 6,
   "metadata": {},
   "outputs": [
    {
     "name": "stdout",
     "output_type": "stream",
     "text": [
      "圓面積是:31415.93\n"
     ]
    }
   ],
   "source": [
    "def circle(radius:float):\n",
    "    pi:float=3.1415926\n",
    "    return pi*radius**2\n",
    "area:float=circle(radius=100)\n",
    "print(f\"圓面積是:{area:.2f}\")"
   ]
  },
  {
   "cell_type": "code",
   "execution_count": 1,
   "metadata": {},
   "outputs": [
    {
     "name": "stdout",
     "output_type": "stream",
     "text": [
      "Hello! Wrold!\n"
     ]
    }
   ],
   "source": [
    "#自訂fuction\n",
    "#沒有參數\n",
    "#沒有傳出值\n",
    "\n",
    "#只有自訂function\n",
    "def sayHello():\n",
    "    print(\"Hello! Wrold!\")\n",
    "sayHello()"
   ]
  },
  {
   "cell_type": "code",
   "execution_count": 6,
   "metadata": {},
   "outputs": [
    {
     "name": "stdout",
     "output_type": "stream",
     "text": [
      "Hello!Jame，您好!\n"
     ]
    }
   ],
   "source": [
    "#自訂function\n",
    "#有一個參數\n",
    "#沒有傳出值\n",
    "\n",
    "def hello_friend(name:str):\n",
    "    print(f\"Hello!{name}，您好!\")\n",
    "hello_friend(\"Jame\")"
   ]
  },
  {
   "cell_type": "code",
   "execution_count": 8,
   "metadata": {},
   "outputs": [
    {
     "name": "stdout",
     "output_type": "stream",
     "text": [
      "Hello!Jame，歡迎您!\n"
     ]
    }
   ],
   "source": [
    "#自訂function\n",
    "#有一個參數\n",
    "#有傳出值\n",
    "\n",
    "def hello_again(name:str):\n",
    "    return f\"Hello!{name}，歡迎您!\"\n",
    "massage:str=hello_again(\"Jame\")\n",
    "print(massage)"
   ]
  },
  {
   "cell_type": "code",
   "execution_count": 16,
   "metadata": {},
   "outputs": [
    {
     "name": "stdout",
     "output_type": "stream",
     "text": [
      "面積是31415.93\n",
      "面積是125663.70\n"
     ]
    }
   ],
   "source": [
    "#計算圓面積\n",
    "\n",
    "def circle_area(radius:float):\n",
    "    pi:float = 3.1415926\n",
    "    return pi * radius ** 2\n",
    "area = circle_area(radius=100)\n",
    "print(f\"面積是{area:.2f}\")\n",
    "\n",
    "area = circle_area(radius=200)  #可以重複呼叫\n",
    "print(f\"面積是{area:.2f}\")"
   ]
  }
 ],
 "metadata": {
  "kernelspec": {
   "display_name": "Python 3",
   "language": "python",
   "name": "python3"
  },
  "language_info": {
   "codemirror_mode": {
    "name": "ipython",
    "version": 3
   },
   "file_extension": ".py",
   "mimetype": "text/x-python",
   "name": "python",
   "nbconvert_exporter": "python",
   "pygments_lexer": "ipython3",
   "version": "3.10.13"
  }
 },
 "nbformat": 4,
 "nbformat_minor": 2
}
