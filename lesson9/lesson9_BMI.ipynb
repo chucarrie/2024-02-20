{
 "cells": [
  {
   "cell_type": "code",
   "execution_count": null,
   "metadata": {},
   "outputs": [],
   "source": [
    "#計算bmi和建議,請參考lesson9_3.ipynb,將name轉換為RootModel,BaseModel內有計算bmi和建議的方法\n",
    "#names = [\n",
    "    {'name':'徐xx','height':178,'weight':78},\n",
    "    {'name':'王xx','height':168,'weight':75},\n",
    "    {'name':'張xx','height':183,'weight':78},\n",
    "]\n",
    "輸出:\n",
    "徐xx,bmi:24.12,過重\n",
    "王xx,bmi:24.12,過重"
   ]
  },
  {
   "cell_type": "code",
   "execution_count": null,
   "metadata": {},
   "outputs": [],
   "source": [
    "from pydantic import BaseModel,RootModel\n",
    "data_source:list=[{'name':'徐xx','height':178,'weight':78},\n",
    "                  {'name':'王xx','height':168,'weight':75},\n",
    "                  {'name':'張xx','height':183,'weight':78},]\n",
    "\n",
    "class student(BaseModel):\n",
    "    name:str\n",
    "    height:float\n",
    "    weight:float\n",
    "    \n",
    "@property\n",
    "\n",
    "\n",
    "\n",
    "    "
   ]
  }
 ],
 "metadata": {
  "kernelspec": {
   "display_name": "Python 3",
   "language": "python",
   "name": "python3"
  },
  "language_info": {
   "name": "python",
   "version": "3.10.13"
  }
 },
 "nbformat": 4,
 "nbformat_minor": 2
}
