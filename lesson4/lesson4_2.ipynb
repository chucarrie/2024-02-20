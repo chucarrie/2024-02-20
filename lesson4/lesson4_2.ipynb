{
 "cells": [
  {
   "cell_type": "code",
   "execution_count": 3,
   "metadata": {},
   "outputs": [
    {
     "name": "stdout",
     "output_type": "stream",
     "text": [
      "及格\n",
      "程式結束\n"
     ]
    }
   ],
   "source": [
    "#雙向選擇\n",
    "score=int(input('請輸入分數'))\n",
    "if score>=60:\n",
    "    print(\"及格\")\n",
    "else:\n",
    "    print(\"不及格\")    \n",
    "print(\"程式結束\")    "
   ]
  },
  {
   "cell_type": "code",
   "execution_count": 6,
   "metadata": {},
   "outputs": [
    {
     "name": "stdout",
     "output_type": "stream",
     "text": [
      "學生的總分為：81\n"
     ]
    }
   ],
   "source": [
    "#學生總分為300分\n",
    "#有些學生可以加分5%\n",
    "score=int(input('請輸入學生分數(最高300分):'))\n",
    "is_add=input('學生是否符合加分條件?(y,n)')\n",
    "if is_add ==\"y\":\n",
    "    score *=1.05\n",
    "print(f\"學生的總分為：{round(score)}\")"
   ]
  },
  {
   "cell_type": "code",
   "execution_count": 10,
   "metadata": {},
   "outputs": [
    {
     "name": "stdout",
     "output_type": "stream",
     "text": [
      "學生的總分為：210\n"
     ]
    }
   ],
   "source": [
    "#學生總分為300分\n",
    "#有些學生可以加分5%\n",
    "#如果分數超過300分，就以300為準\n",
    "score=int(input('請輸入學生分數(最高300分):'))\n",
    "is_add=input('學生是否符合加分條件?(y,n)')\n",
    "if is_add ==\"y\":\n",
    "    score *=1.05\n",
    "    if score>300:\n",
    "        score=300\n",
    "print(f\"學生的總分為：{round(score)}\")"
   ]
  },
  {
   "cell_type": "code",
   "execution_count": 13,
   "metadata": {},
   "outputs": [
    {
     "name": "stdout",
     "output_type": "stream",
     "text": [
      "輸入超出範圍\n"
     ]
    }
   ],
   "source": [
    "#學生總分為300分\n",
    "#有些學生可以加分5%\n",
    "#如果分數超過300分，就以300為準\n",
    "#檢查學生輸入有無超過300分，有就顯示提示\n",
    "score=int(input('請輸入學生分數(最高300分):'))\n",
    "if score<=300:\n",
    "    is_add=input('學生是否符合加分條件?(y,n)')\n",
    "    if is_add ==\"y\":\n",
    "        score *=1.05\n",
    "        if score>300:\n",
    "            score=300\n",
    "    print(f\"學生的總分為：{round(score)}\")\n",
    "else:\n",
    "    print(\"輸入超出範圍\")"
   ]
  },
  {
   "cell_type": "code",
   "execution_count": 17,
   "metadata": {},
   "outputs": [
    {
     "name": "stdout",
     "output_type": "stream",
     "text": [
      "輸入不在範圍內\n"
     ]
    }
   ],
   "source": [
    "#學生總分為300分\n",
    "#有些學生可以加分5%\n",
    "#如果分數超過300分，就以300為準\n",
    "#檢查學生輸入是否超過300分，有就顯示提示\n",
    "#檢查學生輸入是否小於0分，有就顯示提示\n",
    "score=int(input('請輸入學生分數(最高300分):'))\n",
    "if score<=300:\n",
    "    if score>=0:\n",
    "        is_add=input('學生是否符合加分條件?(y,n)')\n",
    "        if is_add ==\"y\":\n",
    "            score *=1.05\n",
    "            if score>300:\n",
    "                score=300\n",
    "        print(f\"學生的總分為：{round(score)}\")\n",
    "    else:\n",
    "        print(\"輸入不在範圍內\")\n",
    "else:\n",
    "    print(\"輸入不在範圍內\")"
   ]
  },
  {
   "cell_type": "code",
   "execution_count": 23,
   "metadata": {},
   "outputs": [
    {
     "name": "stdout",
     "output_type": "stream",
     "text": [
      "輸入不在範圍內\n"
     ]
    }
   ],
   "source": [
    "#學生總分為300分\n",
    "#有些學生可以加分5%\n",
    "#如果分數超過300分，就以300為準\n",
    "#檢查學生輸入是否超過300分，有就顯示提示\n",
    "#檢查學生輸入是否小於0分，有就顯示提示\n",
    "score=int(input('請輸入學生分數(最高300分):'))\n",
    "if score<=300 and score>=0:\n",
    "    is_add=input('學生是否符合加分條件?(y,n)')\n",
    "    if is_add ==\"y\":\n",
    "        score *=1.05\n",
    "        if score>300:\n",
    "            score=300\n",
    "    print(f\"學生的總分為：{round(score)}\")\n",
    "else:\n",
    "    print(\"輸入不在範圍內\")"
   ]
  },
  {
   "cell_type": "code",
   "execution_count": 27,
   "metadata": {},
   "outputs": [
    {
     "name": "stdout",
     "output_type": "stream",
     "text": [
      "輸入格式錯誤\n"
     ]
    }
   ],
   "source": [
    "#解決raise錯誤的語法\n",
    "#try...except\n",
    "try:\n",
    "    money=eval(input('請輸入金額'))\n",
    "    print(f\"金額:{money:.1f}\")\n",
    "except:\n",
    "    print(\"輸入格式錯誤\")"
   ]
  },
  {
   "cell_type": "code",
   "execution_count": 30,
   "metadata": {},
   "outputs": [
    {
     "name": "stdout",
     "output_type": "stream",
     "text": [
      "金額:123.0\n",
      "程式沒有錯誤\n"
     ]
    }
   ],
   "source": [
    "#解決raise錯誤的語法\n",
    "#try...except...else\n",
    "try:\n",
    "    money=eval(input('請輸入金額'))\n",
    "    print(f\"金額:{money:.1f}\")\n",
    "except:\n",
    "    print(\"輸入格式錯誤\")\n",
    "else:\n",
    "    print(\"程式沒有錯誤\")"
   ]
  },
  {
   "cell_type": "code",
   "execution_count": 33,
   "metadata": {},
   "outputs": [
    {
     "name": "stdout",
     "output_type": "stream",
     "text": [
      "輸入格式錯誤\n"
     ]
    }
   ],
   "source": [
    "#學生總分為300分\n",
    "#有些學生可以加分5%\n",
    "#如果分數超過300分，就以300為準\n",
    "#檢查學生輸入是否超過300分，有就顯示提示\n",
    "#檢查學生輸入是否小於0分，有就顯示提示\n",
    "#檢查使用者輸入的格式是否有錯\n",
    "try:\n",
    "    score=int(input('請輸入學生分數(最高300分):'))\n",
    "    if score<=300 and score>=0:\n",
    "        is_add=input('學生是否符合加分條件?(y,n)')\n",
    "        if is_add ==\"y\":\n",
    "            score *=1.05\n",
    "            if score>300:\n",
    "                score=300\n",
    "        print(f\"學生的總分為：{round(score)}\")\n",
    "    else:\n",
    "        print(\"輸入不在範圍內\")\n",
    "except:\n",
    "    print(\"輸入格式錯誤\")"
   ]
  },
  {
   "cell_type": "code",
   "execution_count": 39,
   "metadata": {},
   "outputs": [
    {
     "name": "stdout",
     "output_type": "stream",
     "text": [
      "數值大於等於90\n"
     ]
    }
   ],
   "source": [
    "value=eval(input('請輸入一個數值'))\n",
    "if value<60:\n",
    "    print(\"小於60\")\n",
    "elif value>=60 and value<80:\n",
    "    print(\"數值在60-80之間\")\n",
    "elif value>80 and value<90:\n",
    "    print(\"數值在80-90之間\")\n",
    "else:\n",
    "    print(\"數值大於等於90\")"
   ]
  },
  {
   "cell_type": "code",
   "execution_count": null,
   "metadata": {},
   "outputs": [],
   "source": []
  },
  {
   "cell_type": "code",
   "execution_count": null,
   "metadata": {},
   "outputs": [],
   "source": []
  },
  {
   "cell_type": "code",
   "execution_count": 48,
   "metadata": {},
   "outputs": [
    {
     "name": "stdout",
     "output_type": "stream",
     "text": [
      "數值在80-90之間\n"
     ]
    }
   ],
   "source": [
    "value=eval(input('請輸入一個數值:'))\n",
    "if value<60:\n",
    "    print(\"數值小於60\")\n",
    "elif value>=60 and value<80:\n",
    "    print(\"數值在60-80之間\")\n",
    "elif value>=80 and value<90:\n",
    "    print(\"數值在80-90之間\")\n",
    "else:\n",
    "    print(\"數值大於等於90\")\n"
   ]
  },
  {
   "cell_type": "code",
   "execution_count": null,
   "metadata": {},
   "outputs": [],
   "source": []
  },
  {
   "cell_type": "code",
   "execution_count": null,
   "metadata": {},
   "outputs": [],
   "source": []
  }
 ],
 "metadata": {
  "kernelspec": {
   "display_name": "Python 3",
   "language": "python",
   "name": "python3"
  },
  "language_info": {
   "codemirror_mode": {
    "name": "ipython",
    "version": 3
   },
   "file_extension": ".py",
   "mimetype": "text/x-python",
   "name": "python",
   "nbconvert_exporter": "python",
   "pygments_lexer": "ipython3",
   "version": "2.7.0"
  }
 },
 "nbformat": 4,
 "nbformat_minor": 2
}
