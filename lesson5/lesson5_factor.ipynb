{
 "cells": [
  {
   "cell_type": "code",
   "execution_count": 56,
   "metadata": {},
   "outputs": [
    {
     "name": "stdout",
     "output_type": "stream",
     "text": [
      "10的正因數有:\n"
     ]
    }
   ],
   "source": [
    "try:\n",
    "    n = int(input('請輸入正整數:'))\n",
    "except:\n",
    "    print(\"輸入格式錯誤\")\n",
    "    \n",
    "    for i in range(1,n+1):\n",
    "        if n % i == 0:\n",
    "            print(f\"{i}\",end=\" \")\n",
    "print(f\"{n}的正因數有:\")"
   ]
  },
  {
   "cell_type": "code",
   "execution_count": 50,
   "metadata": {},
   "outputs": [
    {
     "name": "stdout",
     "output_type": "stream",
     "text": [
      "20的正因數有:\n",
      "1 2 4 5 10 20 "
     ]
    }
   ],
   "source": [
    "try:\n",
    "    a = int(input(\"請輸入一個整數:\"))\n",
    "    print(f\"{a}的正因數有:\")\n",
    "\n",
    "    for i in range(1,a+1):\n",
    "        if a % i == 0:\n",
    "            print(f'{i}',end=' ')\n",
    "\n",
    "except:\n",
    "    print('格式有誤')"
   ]
  },
  {
   "cell_type": "code",
   "execution_count": null,
   "metadata": {},
   "outputs": [],
   "source": []
  }
 ],
 "metadata": {
  "kernelspec": {
   "display_name": "Python 3",
   "language": "python",
   "name": "python3"
  },
  "language_info": {
   "codemirror_mode": {
    "name": "ipython",
    "version": 3
   },
   "file_extension": ".py",
   "mimetype": "text/x-python",
   "name": "python",
   "nbconvert_exporter": "python",
   "pygments_lexer": "ipython3",
   "version": "3.10.13"
  }
 },
 "nbformat": 4,
 "nbformat_minor": 2
}
