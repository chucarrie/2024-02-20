{
 "cells": [
  {
   "cell_type": "code",
   "execution_count": 33,
   "metadata": {},
   "outputs": [
    {
     "name": "stdout",
     "output_type": "stream",
     "text": [
      "請輸入您的身高(cm):\n",
      "請輸入您的體重(kg):\n",
      "您的BMI是20.20\n",
      "您的體重正常\n"
     ]
    }
   ],
   "source": [
    "#請輸入身高(cm)\n",
    "#請輸入體重(kg)\n",
    "#檢查身高及體重的格式，任一錯誤，顯示格式錯誤，不做任何運算(使用外部套件pyinputplus)\n",
    "#輸出:\n",
    "#您的BMI是XX>XXX\n",
    "#您的體重過重\n",
    "\n",
    "import pyinputplus as pyip\n",
    "bh = pyip.inputNum('請輸入您的身高(cm):\\n')\n",
    "bw = pyip.inputNum('請輸入您的體重(kg):\\n')\n",
    "bmi = bw/(bh/100)**2\n",
    "print(f\"您的BMI是{bmi:.2f}\")\n",
    "if bmi < 18.5:\n",
    "    print(\"您的體重過輕\")\n",
    "elif bmi < 24:\n",
    "    print(\"您的體重正常\")\n",
    "elif bmi < 27:\n",
    "    print(\"您的體重過重\")\n",
    "elif bmi < 30:\n",
    "    print(\"輕度肥胖\")\n",
    "elif bmi < 35:\n",
    "    print(\"中度肥胖\")\n",
    "else:\n",
    "    print(\"重度肥胖\")"
   ]
  }
 ],
 "metadata": {
  "kernelspec": {
   "display_name": "Python 3",
   "language": "python",
   "name": "python3"
  },
  "language_info": {
   "codemirror_mode": {
    "name": "ipython",
    "version": 3
   },
   "file_extension": ".py",
   "mimetype": "text/x-python",
   "name": "python",
   "nbconvert_exporter": "python",
   "pygments_lexer": "ipython3",
   "version": "3.10.13"
  }
 },
 "nbformat": 4,
 "nbformat_minor": 2
}
