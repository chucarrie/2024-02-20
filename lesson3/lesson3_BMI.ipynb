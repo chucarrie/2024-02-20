{
 "cells": [
  {
   "cell_type": "code",
   "execution_count": 18,
   "metadata": {},
   "outputs": [
    {
     "name": "stdout",
     "output_type": "stream",
     "text": [
      "朱冠郁\n",
      "身高:164cm,體重:59公斤\n",
      "BMI:21.94\n"
     ]
    }
   ],
   "source": [
    "#計算BMI\n",
    "name=input('請輸入姓名:')\n",
    "bh=eval(input('請輸入身高(公分):'))\n",
    "bw=eval(input('請輸入體重(公斤):'))\n",
    "#BMI=體重(公斤)/身高²(公尺)²\n",
    "bmi=bw/(bh/100)**2\n",
    "print(f\"{name}\")\n",
    "print(f\"身高:{bh}cm,體重:{bw}公斤\")\n",
    "print(f\"BMI:{bmi:.2f}\")"
   ]
  },
  {
   "cell_type": "code",
   "execution_count": null,
   "metadata": {},
   "outputs": [],
   "source": []
  },
  {
   "cell_type": "code",
   "execution_count": null,
   "metadata": {},
   "outputs": [],
   "source": []
  }
 ],
 "metadata": {
  "kernelspec": {
   "display_name": "Python 3",
   "language": "python",
   "name": "python3"
  },
  "language_info": {
   "codemirror_mode": {
    "name": "ipython",
    "version": 3
   },
   "file_extension": ".py",
   "mimetype": "text/x-python",
   "name": "python",
   "nbconvert_exporter": "python",
   "pygments_lexer": "ipython3",
   "version": "3.10.13"
  }
 },
 "nbformat": 4,
 "nbformat_minor": 2
}
