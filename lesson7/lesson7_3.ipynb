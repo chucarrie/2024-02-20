{
 "cells": [
  {
   "cell_type": "code",
   "execution_count": 21,
   "metadata": {},
   "outputs": [],
   "source": [
    "def menu(wine:str,entree:str,dessert:str):\n",
    "    print(f\"餐前酒:{wine}\")\n",
    "    print(f\"主餐:{entree}\")\n",
    "    print(f\"甜點:{dessert}\")"
   ]
  },
  {
   "cell_type": "code",
   "execution_count": 23,
   "metadata": {},
   "outputs": [
    {
     "name": "stdout",
     "output_type": "stream",
     "text": [
      "餐前酒:紅酒\n",
      "主餐:豬排\n",
      "甜點:蛋塔\n"
     ]
    }
   ],
   "source": [
    "#引數值呼叫\n",
    "menu('紅酒','豬排','蛋塔')"
   ]
  },
  {
   "cell_type": "code",
   "execution_count": 26,
   "metadata": {},
   "outputs": [
    {
     "name": "stdout",
     "output_type": "stream",
     "text": [
      "餐前酒:紅酒\n",
      "主餐:豬排\n",
      "甜點:蛋塔\n"
     ]
    }
   ],
   "source": [
    "#引數名稱呼叫\n",
    "menu(wine=\"紅酒\",entree=\"豬排\",dessert=\"蛋塔\")"
   ]
  },
  {
   "cell_type": "code",
   "execution_count": 27,
   "metadata": {},
   "outputs": [
    {
     "name": "stdout",
     "output_type": "stream",
     "text": [
      "餐前酒:紅酒\n",
      "主餐:豬排\n",
      "甜點:蛋塔\n"
     ]
    }
   ],
   "source": [
    "#引述名稱呼叫\n",
    "#可以不用按照順序\n",
    "menu(dessert=\"蛋塔\",wine=\"紅酒\",entree=\"豬排\")"
   ]
  },
  {
   "cell_type": "code",
   "execution_count": 28,
   "metadata": {},
   "outputs": [
    {
     "name": "stdout",
     "output_type": "stream",
     "text": [
      "餐前酒:紅酒\n",
      "主餐:豬排\n",
      "甜點:蛋塔\n"
     ]
    }
   ],
   "source": [
    "#混合呼叫\n",
    "#前面一定用引數值呼叫\n",
    "#後面用引數名稱呼叫\n",
    "#引數名稱呼叫後，後面一定都要用引數名稱\n",
    "menu(\"紅酒\",entree=\"豬排\",dessert=\"蛋塔\")"
   ]
  },
  {
   "cell_type": "code",
   "execution_count": 34,
   "metadata": {},
   "outputs": [],
   "source": [
    "#參數有default value一定要寫在最後\n",
    "def menu(wine:str,entree:str,dessert:str=\"奶昔\"):  #沒有點甜品用預設的給\"奶昔\"\n",
    "    print(f\"餐前酒:{wine}\")\n",
    "    print(f\"主餐:{entree}\")\n",
    "    print(f\"甜點:{dessert}\")"
   ]
  },
  {
   "cell_type": "code",
   "execution_count": 35,
   "metadata": {},
   "outputs": [
    {
     "name": "stdout",
     "output_type": "stream",
     "text": [
      "餐前酒:紅酒\n",
      "主餐:豬排\n",
      "甜點:奶昔\n"
     ]
    }
   ],
   "source": [
    "menu(\"紅酒\",entree=\"豬排\")"
   ]
  },
  {
   "cell_type": "code",
   "execution_count": 36,
   "metadata": {},
   "outputs": [
    {
     "name": "stdout",
     "output_type": "stream",
     "text": [
      "餐前酒:紅酒\n",
      "主餐:豬排\n",
      "甜點:慕絲\n"
     ]
    }
   ],
   "source": [
    "沒預設的用引數值，預設的用引數名稱\n",
    "menu(\"紅酒\",\"豬排\",dessert=\"慕絲\")  "
   ]
  },
  {
   "cell_type": "code",
   "execution_count": 40,
   "metadata": {},
   "outputs": [
    {
     "name": "stdout",
     "output_type": "stream",
     "text": [
      "所有引數值是(1, 3, 5, 'a', 'b', 'c', 10.0)\n",
      "所有引數值是()\n"
     ]
    }
   ],
   "source": [
    "#\"*\"是沒有限定引數值數量的呼叫\n",
    "def print_args(*args):\n",
    "    print(f\"所有引數值是{args}\")\n",
    "print_args(1,3,5,'a','b','c',10.0)\n",
    "\n",
    "print_args()  #所有引數值亦可用空值代表()"
   ]
  },
  {
   "cell_type": "code",
   "execution_count": 41,
   "metadata": {},
   "outputs": [
    {
     "name": "stdout",
     "output_type": "stream",
     "text": [
      "所有引數名稱是:{'tw': '台灣', 'JP': '日本', 'US': '美國'}\n"
     ]
    }
   ],
   "source": [
    "\"**\"是沒有限定引數名稱數量的呼叫\n",
    "def kw_args(**kwargs):\n",
    "    print(f\"所有引數名稱是:{kwargs}\")\n",
    "kw_args(tw=\"台灣\",JP=\"日本\",US=\"美國\")"
   ]
  },
  {
   "cell_type": "code",
   "execution_count": null,
   "metadata": {},
   "outputs": [],
   "source": []
  }
 ],
 "metadata": {
  "kernelspec": {
   "display_name": "Python 3",
   "language": "python",
   "name": "python3"
  },
  "language_info": {
   "codemirror_mode": {
    "name": "ipython",
    "version": 3
   },
   "file_extension": ".py",
   "mimetype": "text/x-python",
   "name": "python",
   "nbconvert_exporter": "python",
   "pygments_lexer": "ipython3",
   "version": "3.10.13"
  }
 },
 "nbformat": 4,
 "nbformat_minor": 2
}
