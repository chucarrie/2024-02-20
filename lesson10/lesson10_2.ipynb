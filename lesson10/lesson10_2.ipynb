{
 "cells": [
  {
   "cell_type": "code",
   "execution_count": 13,
   "metadata": {},
   "outputs": [
    {
     "ename": "ImportError",
     "evalue": "cannot import name 'get_names' from 'Tools' (/workspaces/2024-02-20/lesson10/Tools.py)",
     "output_type": "error",
     "traceback": [
      "\u001b[0;31m---------------------------------------------------------------------------\u001b[0m",
      "\u001b[0;31mImportError\u001b[0m                               Traceback (most recent call last)",
      "Cell \u001b[0;32mIn[13], line 1\u001b[0m\n\u001b[0;32m----> 1\u001b[0m \u001b[38;5;28;01mfrom\u001b[39;00m \u001b[38;5;21;01mTools\u001b[39;00m \u001b[38;5;28;01mimport\u001b[39;00m get_names\n\u001b[1;32m      2\u001b[0m \u001b[38;5;28;01mimport\u001b[39;00m \u001b[38;5;21;01mpyinputplus\u001b[39;00m \u001b[38;5;28;01mas\u001b[39;00m \u001b[38;5;21;01mpyip\u001b[39;00m\n\u001b[1;32m      4\u001b[0m \u001b[38;5;28;01mdef\u001b[39;00m \u001b[38;5;21mmain\u001b[39m():\n",
      "\u001b[0;31mImportError\u001b[0m: cannot import name 'get_names' from 'Tools' (/workspaces/2024-02-20/lesson10/Tools.py)"
     ]
    }
   ],
   "source": [
    "from Tools import get_names\n",
    "import pyinputplus as pyip\n",
    "\n",
    "def main():\n",
    "    nums:int = pyip.inputInt(\"請輸入學生數(1~30):\",min=1,max=30)\n",
    "    names:list[str] = get_names(nums=nums)\n",
    "    print(names)\n",
    "\n",
    "if __name__ == '__main__':\n",
    "    main()"
   ]
  },
  {
   "cell_type": "code",
   "execution_count": 12,
   "metadata": {},
   "outputs": [],
   "source": [
    "import random\n",
    "\n",
    "def get_names(nums:int = 5) -> list[str]:\n",
    "    with open('names.txt',encoding='utf8') as file:\n",
    "        content:str = file.read()\n",
    "        names:list[str] = content.split(sep='\\n')\n",
    "        random_names:list[str] = random.choices(names,k=nums)\n",
    "    return random_names"
   ]
  }
 ],
 "metadata": {
  "kernelspec": {
   "display_name": "Python 3",
   "language": "python",
   "name": "python3"
  },
  "language_info": {
   "codemirror_mode": {
    "name": "ipython",
    "version": 3
   },
   "file_extension": ".py",
   "mimetype": "text/x-python",
   "name": "python",
   "nbconvert_exporter": "python",
   "pygments_lexer": "ipython3",
   "version": "3.10.13"
  }
 },
 "nbformat": 4,
 "nbformat_minor": 2
}
