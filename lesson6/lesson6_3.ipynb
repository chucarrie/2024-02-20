{
 "cells": [
  {
   "cell_type": "code",
   "execution_count": 1,
   "metadata": {},
   "outputs": [
    {
     "name": "stdout",
     "output_type": "stream",
     "text": [
      "========猜數字遊戲=========\n",
      "\n",
      "59\n",
      "猜數字範圍1~100猜錯了!\n",
      "猜數字範圍1~100賓果!猜對了, 答案是:59\n",
      "遊戲結束!\n"
     ]
    }
   ],
   "source": [
    "import random\n",
    "import pyinputplus as pyip\n",
    "min = 1\n",
    "max = 100\n",
    "target = random.randint(min,max)\n",
    "print(\"========猜數字遊戲=========\\n\")\n",
    "print(target)\n",
    "while(True):\n",
    "    keyin = pyip.inputInt(f\"猜數字範圍{min}~{max}\",min=min,max=max)\n",
    "    if keyin == target:\n",
    "        print(f'賓果!猜對了, 答案是:{target}')\n",
    "        break\n",
    "    else:\n",
    "        print('猜錯了!')\n",
    "print(\"遊戲結束!\")   "
   ]
  },
  {
   "cell_type": "code",
   "execution_count": null,
   "metadata": {},
   "outputs": [],
   "source": [
    "import random\n",
    "import pyinputplus as pyip\n",
    "min=1\n",
    "max=100\n",
    "target=random.randint(min,max)\n",
    "print(\"=====遊戲結束=====\")\n",
    "while True:\n",
    "    \n"
   ]
  },
  {
   "cell_type": "code",
   "execution_count": 1,
   "metadata": {},
   "outputs": [
    {
     "name": "stdout",
     "output_type": "stream",
     "text": [
      "========猜數字遊戲=========\n",
      "\n",
      "猜數字範圍1~100:55\n",
      "再大一點\n",
      "您已經猜了1次\n",
      "猜數字範圍56~100:70\n",
      "再大一點\n",
      "您已經猜了2次\n",
      "猜數字範圍71~100:90\n",
      "再小一點\n",
      "您已經猜了3次\n",
      "猜數字範圍71~89:Number must be at minimum 71.\n",
      "猜數字範圍71~89:80\n",
      "再小一點\n",
      "您已經猜了4次\n",
      "猜數字範圍71~79:78\n",
      "再小一點\n",
      "您已經猜了5次\n",
      "猜數字範圍71~77:75\n",
      "再小一點\n",
      "您已經猜了6次\n",
      "猜數字範圍71~74:72\n",
      "再大一點\n",
      "您已經猜了7次\n",
      "猜數字範圍73~74:73\n",
      "賓果!猜對了, 答案是:73\n",
      "您猜了8次\n",
      "遊戲結束!\n"
     ]
    }
   ],
   "source": [
    "import random\n",
    "import pyinputplus as pyip\n",
    "min = 1\n",
    "max = 100\n",
    "count = 0\n",
    "target = random.randint(min,max)\n",
    "print(\"========猜數字遊戲=========\\n\")\n",
    "#print(target)\n",
    "while(True):\n",
    "    keyin = pyip.inputInt(f\"猜數字範圍{min}~{max}:\",min=min,max=max)\n",
    "    print(keyin)\n",
    "    count += 1\n",
    "    if keyin == target:\n",
    "        print(f'賓果!猜對了, 答案是:{target}')\n",
    "        print(f'您猜了{count}次')\n",
    "        break\n",
    "    elif (keyin > target):\n",
    "        print(\"再小一點\")\n",
    "        max = keyin - 1\n",
    "    elif (keyin < target):\n",
    "        print(\"再大一點\")\n",
    "        min = keyin + 1\n",
    "    print(f\"您已經猜了{count}次\")\n",
    "        \n",
    "print(\"遊戲結束!\") "
   ]
  },
  {
   "cell_type": "code",
   "execution_count": null,
   "metadata": {},
   "outputs": [],
   "source": []
  }
 ],
 "metadata": {
  "kernelspec": {
   "display_name": "Python 3",
   "language": "python",
   "name": "python3"
  },
  "language_info": {
   "codemirror_mode": {
    "name": "ipython",
    "version": 3
   },
   "file_extension": ".py",
   "mimetype": "text/x-python",
   "name": "python",
   "nbconvert_exporter": "python",
   "pygments_lexer": "ipython3",
   "version": "2.7.0"
  }
 },
 "nbformat": 4,
 "nbformat_minor": 2
}
