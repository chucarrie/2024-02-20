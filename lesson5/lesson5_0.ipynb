{
 "cells": [
  {
   "cell_type": "code",
   "execution_count": 18,
   "metadata": {},
   "outputs": [
    {
     "name": "stdout",
     "output_type": "stream",
     "text": [
      "您的BMI是24.9\n",
      "您的體重過重\n"
     ]
    }
   ],
   "source": []
  },
  {
   "cell_type": "code",
   "execution_count": 21,
   "metadata": {},
   "outputs": [
    {
     "name": "stdout",
     "output_type": "stream",
     "text": [
      "您的BMI是16.6\n",
      "體重過輕\n"
     ]
    }
   ],
   "source": [
    "try:\n",
    "    bh=eval(input('請輸入身高(cm):'))\n",
    "    bw=eval(input('請輸入體重(kg):'))\n",
    "    bmi=bw/(bh/100)**2\n",
    "    print(f\"您的BMI是{bmi:.1f}\")\n",
    "    if bmi >=35:\n",
    "        print(\"過度肥胖\")\n",
    "    elif bmi >=30:\n",
    "        print(\"中度肥胖\")\n",
    "    elif bmi >=27:\n",
    "        print(\"輕度肥胖\")\n",
    "    elif bmi >=24:\n",
    "        print(\"您的體重過重\")\n",
    "    elif bmi >=18.5:\n",
    "        print(\"您的體重正常\")\n",
    "    else:\n",
    "        print(\"體重過輕\")\n",
    "except:\n",
    "    print(\"輸入格式錯誤\")"
   ]
  }
 ],
 "metadata": {
  "kernelspec": {
   "display_name": "Python 3",
   "language": "python",
   "name": "python3"
  },
  "language_info": {
   "codemirror_mode": {
    "name": "ipython",
    "version": 3
   },
   "file_extension": ".py",
   "mimetype": "text/x-python",
   "name": "python",
   "nbconvert_exporter": "python",
   "pygments_lexer": "ipython3",
   "version": "3.10.13"
  }
 },
 "nbformat": 4,
 "nbformat_minor": 2
}
